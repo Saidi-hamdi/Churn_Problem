{
 "cells": [
  
  {
   "cell_type": "code",
   "execution_count": 1,
   "metadata": {},
   "outputs": [],
   "source": [
    "#Importing libraries\n",
    "import numpy as np \n",
    "import pandas as pd \n",
    "\n",
    "\n",
    "\n",
    "import matplotlib.pyplot as plt\n",
    "import seaborn as sns\n",
    "%matplotlib inline\n",
    "import warnings\n",
    "warnings.filterwarnings(\"ignore\")"
   ]
  },
  {
   "cell_type": "code",
   "execution_count": 2,
   "metadata": {},
   "outputs": [],
   "source": [
    "data = pd.read_csv(\"churn_problem_file.csv\")\n",
    "data.head();"
   ]
  },
  {
   "cell_type": "code",
   "execution_count": 3,
   "metadata": {},
   "outputs": [
    {
     "name": "stdout",
     "output_type": "stream",
     "text": [
      "<class 'pandas.core.frame.DataFrame'>\n",
      "RangeIndex: 7043 entries, 0 to 7042\n",
      "Data columns (total 21 columns):\n",
      "customerID          7043 non-null object\n",
      "gender              7043 non-null object\n",
      "SeniorCitizen       7043 non-null int64\n",
      "Partner             7043 non-null object\n",
      "Dependents          7043 non-null object\n",
      "tenure              7043 non-null int64\n",
      "PhoneService        7043 non-null object\n",
      "MultipleLines       7043 non-null object\n",
      "InternetService     7043 non-null object\n",
      "OnlineSecurity      7043 non-null object\n",
      "OnlineBackup        7043 non-null object\n",
      "DeviceProtection    7043 non-null object\n",
      "TechSupport         7043 non-null object\n",
      "StreamingTV         7043 non-null object\n",
      "StreamingMovies     7043 non-null object\n",
      "Contract            7043 non-null object\n",
      "PaperlessBilling    7043 non-null object\n",
      "PaymentMethod       7043 non-null object\n",
      "MonthlyCharges      7043 non-null float64\n",
      "TotalCharges        7043 non-null object\n",
      "Churn               7043 non-null object\n",
      "dtypes: float64(1), int64(2), object(18)\n",
      "memory usage: 1.1+ MB\n"
     ]
    }
   ],
   "source": [
    "data.info()"
   ]
  },
  {
   "cell_type": "code",
   "execution_count": 4,
   "metadata": {},
   "outputs": [],
   "source": [
    "\"\"\"\n",
    "We notice above that TotalCharges is concidered an object or a string and trying to convert it causes and error which means that a NaN value\n",
    "is hidden somewhere, we also notice that SeniorCitizen is concidered a quantitative\n",
    "variable so we will have to fix this later in the Data Preparation phase.\n",
    "\n",
    "\"\"\"\n",
    "data[data[\"TotalCharges\"]==\" \"];\n",
    "# There we go we found the issue"
   ]
  },
  {
   "cell_type": "code",
   "execution_count": 5,
   "metadata": {},
   "outputs": [
    {
     "data": {
      "text/html": [
       "<div>\n",
       "<style scoped>\n",
       "    .dataframe tbody tr th:only-of-type {\n",
       "        vertical-align: middle;\n",
       "    }\n",
       "\n",
       "    .dataframe tbody tr th {\n",
       "        vertical-align: top;\n",
       "    }\n",
       "\n",
       "    .dataframe thead th {\n",
       "        text-align: right;\n",
       "    }\n",
       "</style>\n",
       "<table border=\"1\" class=\"dataframe\">\n",
       "  <thead>\n",
       "    <tr style=\"text-align: right;\">\n",
       "      <th></th>\n",
       "      <th>SeniorCitizen</th>\n",
       "      <th>tenure</th>\n",
       "      <th>MonthlyCharges</th>\n",
       "    </tr>\n",
       "  </thead>\n",
       "  <tbody>\n",
       "    <tr>\n",
       "      <td>count</td>\n",
       "      <td>7043.000000</td>\n",
       "      <td>7043.000000</td>\n",
       "      <td>7043.000000</td>\n",
       "    </tr>\n",
       "    <tr>\n",
       "      <td>mean</td>\n",
       "      <td>0.162147</td>\n",
       "      <td>32.371149</td>\n",
       "      <td>64.761692</td>\n",
       "    </tr>\n",
       "    <tr>\n",
       "      <td>std</td>\n",
       "      <td>0.368612</td>\n",
       "      <td>24.559481</td>\n",
       "      <td>30.090047</td>\n",
       "    </tr>\n",
       "    <tr>\n",
       "      <td>min</td>\n",
       "      <td>0.000000</td>\n",
       "      <td>0.000000</td>\n",
       "      <td>18.250000</td>\n",
       "    </tr>\n",
       "    <tr>\n",
       "      <td>25%</td>\n",
       "      <td>0.000000</td>\n",
       "      <td>9.000000</td>\n",
       "      <td>35.500000</td>\n",
       "    </tr>\n",
       "    <tr>\n",
       "      <td>50%</td>\n",
       "      <td>0.000000</td>\n",
       "      <td>29.000000</td>\n",
       "      <td>70.350000</td>\n",
       "    </tr>\n",
       "    <tr>\n",
       "      <td>75%</td>\n",
       "      <td>0.000000</td>\n",
       "      <td>55.000000</td>\n",
       "      <td>89.850000</td>\n",
       "    </tr>\n",
       "    <tr>\n",
       "      <td>max</td>\n",
       "      <td>1.000000</td>\n",
       "      <td>72.000000</td>\n",
       "      <td>118.750000</td>\n",
       "    </tr>\n",
       "  </tbody>\n",
       "</table>\n",
       "</div>"
      ],
      "text/plain": [
       "       SeniorCitizen       tenure  MonthlyCharges\n",
       "count    7043.000000  7043.000000     7043.000000\n",
       "mean        0.162147    32.371149       64.761692\n",
       "std         0.368612    24.559481       30.090047\n",
       "min         0.000000     0.000000       18.250000\n",
       "25%         0.000000     9.000000       35.500000\n",
       "50%         0.000000    29.000000       70.350000\n",
       "75%         0.000000    55.000000       89.850000\n",
       "max         1.000000    72.000000      118.750000"
      ]
     },
     "execution_count": 5,
     "metadata": {},
     "output_type": "execute_result"
    }
   ],
   "source": [
    "data.describe()"
   ]
  },
  {
   "cell_type": "code",
   "execution_count": 6,
   "metadata": {},
   "outputs": [
    {
     "name": "stdout",
     "output_type": "stream",
     "text": [
      "Out of a Total number of customers of 7043 :\n",
      " 1869 customers left during the last month\n",
      " 5174 did not leave the company with a churn rate of 26.54%\n",
      "We notice here that the labeled class might be a bit imbalanced\n",
      "The number of unique categories for each feature:\n",
      "\n",
      "gender : 2 categories\n",
      "SeniorCitizen : 2 categories\n",
      "Partner : 2 categories\n",
      "Dependents : 2 categories\n",
      "tenure : 73 categories\n",
      "PhoneService : 2 categories\n",
      "MultipleLines : 3 categories\n",
      "InternetService : 3 categories\n",
      "OnlineSecurity : 3 categories\n",
      "OnlineBackup : 3 categories\n",
      "DeviceProtection : 3 categories\n",
      "TechSupport : 3 categories\n",
      "StreamingTV : 3 categories\n",
      "StreamingMovies : 3 categories\n",
      "Contract : 3 categories\n",
      "PaperlessBilling : 2 categories\n",
      "PaymentMethod : 4 categories\n",
      "MonthlyCharges : 1585 categories\n",
      "TotalCharges : 6531 categories\n",
      "Churn : 2 categories\n"
     ]
    }
   ],
   "source": [
    "churn = len(data[\"Churn\"][data[\"Churn\"]==\"Yes\"].values)\n",
    "noChurn = len(data[\"Churn\"][data[\"Churn\"]==\"No\"].values)\n",
    "print(\"Out of a Total number of customers of {} :\\n {} customers left during the last month\\n {} did not leave the company with a churn rate of {:0.2f}%\\nWe notice here that the labeled class might be a bit imbalanced\"\n",
    "      .format(len(data[\"Churn\"].values),churn, noChurn, churn/len(data[\"Churn\"].values)*100))\n",
    "print(\"The number of unique categories for each feature:\\n\")\n",
    "for variable in data.columns:\n",
    "    if variable != \"customerID\":\n",
    "        print(\"{} : {} categories\".format(variable,data[variable].nunique()))"
   ]
  },
  {
   "cell_type": "code",
   "execution_count": 7,
   "metadata": {},
   "outputs": [
    {
     "data": {
      "text/plain": [
       "SeniorCitizen     100.000000\n",
       "tenure             10.414053\n",
       "MonthlyCharges      8.629033\n",
       "dtype: float64"
      ]
     },
     "execution_count": 7,
     "metadata": {},
     "output_type": "execute_result"
    }
   ],
   "source": [
    "abs( (data.mean() - data.median() ) / data.mean()) * 100\n",
    "# We do not notice a huge variablity in our quantitative feature MonthlyCharges"
   ]
  },
  {
   "cell_type": "code",
   "execution_count": 8,
   "metadata": {},
   "outputs": [
    {
     "data": {
      "image/png": "[encoded data removed]",
      "text/plain": [
       "<Figure size 360x360 with 1 Axes>"
      ]
     },
     "metadata": {
      "needs_background": "light"
     },
     "output_type": "display_data"
    }
   ],
   "source": [
    "sns.catplot(y=\"MonthlyCharges\", kind=\"box\", data=data);"
   ]
  },
  {
   "cell_type": "code",
   "execution_count": 9,
   "metadata": {},
   "outputs": [
    {
     "data": {
      "image/png": "[encoded data removed]",
      "text/plain": [
       "<Figure size 413.359x360 with 1 Axes>"
      ]
     },
     "metadata": {
      "needs_background": "light"
     },
     "output_type": "display_data"
    },
    {
     "data": {
      "image/png": "[encoded data removed]",
      "text/plain": [
       "<Figure size 413.359x360 with 1 Axes>"
      ]
     },
     "metadata": {
      "needs_background": "light"
     },
     "output_type": "display_data"
    }
   ],
   "source": [
    "sns.catplot(y=\"SeniorCitizen\", hue=\"Churn\", kind=\"count\",\n",
    "            palette=\"pastel\", edgecolor=\".6\",\n",
    "            data=data);\n",
    "\n",
    "sns.catplot(y=\"gender\", hue=\"Churn\", kind=\"count\",\n",
    "            palette=\"pastel\", edgecolor=\".6\",\n",
    "            data=data);\n"
   ]
  },
  {
   "cell_type": "markdown",
   "metadata": {},
   "source": [
    "## <a id='Data-Preparation'>5. Data Preparation</a> ##"
   ]
  },
  {
   "cell_type": "code",
   "execution_count": 10,
   "metadata": {},
   "outputs": [],
   "source": [
    "# Removing the irrelevant varible customerID \n",
    "data = data.drop(columns=['customerID'])"
   ]
  },
  {
   "cell_type": "code",
   "execution_count": 11,
   "metadata": {},
   "outputs": [],
   "source": [
    "# Replacing the empty value of TatalCharges\n",
    "data['TotalCharges'] = data[\"TotalCharges\"].replace(\" \",np.nan)"
   ]
  },
  {
   "cell_type": "code",
   "execution_count": 12,
   "metadata": {},
   "outputs": [],
   "source": [
    "# Finding the number of missing data and removing it as it is a very low pourcentage\n",
    "data.isna().sum();\n",
    "data = data[data[\"TotalCharges\"].notnull()]"
   ]
  },
  {
   "cell_type": "code",
   "execution_count": 13,
   "metadata": {},
   "outputs": [],
   "source": [
    "# Converting object column TotalCharges to a float type\n",
    "#convert to float type\n",
    "data[\"TotalCharges\"] = data[\"TotalCharges\"].astype(float)"
   ]
  },
  {
   "cell_type": "code",
   "execution_count": 14,
   "metadata": {},
   "outputs": [],
   "source": [
    "# Converting SeniorCitizen to a qualitative variable\n",
    "data[\"SeniorCitizen\"] = data[\"SeniorCitizen\"].replace({1:\"Yes\",0:\"No\"})"
   ]
  },
  {
   "cell_type": "code",
   "execution_count": 15,
   "metadata": {},
   "outputs": [],
   "source": [
    "# No we will encode the variables with OneHotEncoding\n",
    "# Keeping in mind the dummy variable trap\n",
    "encoded_quali = pd.get_dummies(data[['gender', 'SeniorCitizen', 'Partner', 'Dependents',\n",
    "       'PhoneService', 'MultipleLines', 'InternetService', 'OnlineSecurity',\n",
    "       'OnlineBackup', 'DeviceProtection', 'TechSupport', 'StreamingTV',\n",
    "       'StreamingMovies', 'Contract', 'PaperlessBilling', 'PaymentMethod'\n",
    "       ]], drop_first=True)"
   ]
  },
  {
   "cell_type": "code",
   "execution_count": 16,
   "metadata": {},
   "outputs": [],
   "source": [
    "data = data.drop(columns=['gender', 'SeniorCitizen', 'Partner', 'Dependents',\n",
    "       'PhoneService', 'MultipleLines', 'InternetService', 'OnlineSecurity',\n",
    "       'OnlineBackup', 'DeviceProtection', 'TechSupport', 'StreamingTV',\n",
    "       'StreamingMovies', 'Contract', 'PaperlessBilling', 'PaymentMethod'\n",
    "       ])"
   ]
  },
  {
   "cell_type": "code",
   "execution_count": 17,
   "metadata": {},
   "outputs": [],
   "source": [
    "encoded_data = pd.concat([encoded_quali, data], axis=1)\n",
    "X = encoded_data.iloc[:,0:-1]\n",
    "y = encoded_data.iloc[:,-1]"
   ]
  },
  {
   "cell_type": "code",
   "execution_count": 19,
   "metadata": {},
   "outputs": [],
   "source": [
    "# last but not least we will here rescale and randomly sample from our data\n",
    "# Rescaling\n",
    "from sklearn.preprocessing import StandardScaler\n",
    "\n",
    "scaler = StandardScaler()\n",
    "X_scaled = scaler.fit_transform(X)\n",
    "\n",
    "\n",
    "# Random sampling\n",
    "from sklearn.model_selection import train_test_split\n",
    "\n",
    "X_train, X_test, y_train, y_test = train_test_split(X_scaled, y, test_size=0.2, random_state=42)\n",
    "# Boom, we are ready for modeling"
   ]
  },
  {
   "cell_type": "markdown",
   "metadata": {},
   "source": [
    "## <a id='Modeling'>6. Modeling</a> ##"
   ]
  },
  {
   "cell_type": "code",
   "execution_count": 20,
   "metadata": {},
   "outputs": [],
   "source": [
    "# In this phase we are going to apply different algorithms on the data we pre-processed\n",
    "from sklearn.tree import DecisionTreeClassifier\n",
    "from sklearn.ensemble import RandomForestClassifier\n",
    "from sklearn.ensemble import AdaBoostClassifier\n",
    "from sklearn.metrics import accuracy_score\n",
    "from sklearn.model_selection import RandomizedSearchCV\n",
    "from sklearn.model_selection import GridSearchCV\n",
    "from xgboost import XGBClassifier\n",
    "\n",
    "\n",
    "# Creating a base instance of the models we re going to use\n",
    "rfc = RandomForestClassifier(random_state=42, n_jobs=-1)\n",
    "tree = DecisionTreeClassifier(random_state=42)\n",
    "XGB = XGBClassifier(random_state=42, n_jobs=-1)"
   ]
  },
  {
   "cell_type": "code",
   "execution_count": 21,
   "metadata": {},
   "outputs": [],
   "source": [
    "def prediction_algorithm(model, X_train, y_train, X_test, y_test):\n",
    "    \n",
    "    \"\"\"\n",
    "    this function takes a model instance and train it on X_train provided as argument\n",
    "    then prints out the model's accuarcy score on both test and train data\n",
    "    \n",
    "    \"\"\"\n",
    "    \n",
    "    model.fit(X_train,y_train)\n",
    "    accuracyOnTestData = model.score(X_test,y_test)\n",
    "    accuracyOnTrainData = model.score(X_train,y_train)\n",
    "    \n",
    "    print(model)\n",
    "    print(\"==========================================================================\")\n",
    "    print('The Accuracy of the model on test data: {:0.3f} % '.format(accuracyOnTestData))\n",
    "    print('The Accuracy of the model on train data: {:0.3f} % '.format(accuracyOnTrainData))\n",
    "    print(\"==========================================================================\")"
   ]
  },
  {
   "cell_type": "code",
   "execution_count": 22,
   "metadata": {},
   "outputs": [],
   "source": [
    "# In order to automatically tune our models hyperparameters to find the best combinations\n",
    "# We will start by using a random search of parameters, using 3 fold cross validation\n",
    "# To narrow down what we re going to tune and then we will proceed with a grid search to find the best combination\n",
    "# from the values we define.\n",
    "\n",
    "def hyperparameters_tuning(model,grid,X_train, y_train, search_type ='grid_search'):\n",
    "    \n",
    "    \"\"\"\n",
    "    this function takes a model instance and find the best combination it \n",
    "    of hyperparameters from a defined grid\n",
    "    the default search_type uses GridSearchCV class\n",
    "    the alternative search_type uses RandomizedSearchCV class using search_type ='random_search'\n",
    "    returns the model with the best parameters\n",
    "    \"\"\"\n",
    "    \n",
    "    if(search_type == 'random_search'):\n",
    "        best_model = RandomizedSearchCV(estimator = model, param_distributions = grid, n_iter = 100,\n",
    "                                    cv = 3, verbose=1, random_state=42, n_jobs = -1)\n",
    "        best_model.fit(X_train, y_train)\n",
    "        return best_model.best_estimator_\n",
    "\n",
    "\n",
    "    \n",
    "    best_model = GridSearchCV(estimator = model, param_grid = grid, \n",
    "                          cv = 3, n_jobs = -1, verbose = 1)\n",
    "    best_model.fit(X_train, y_train)\n",
    "        \n",
    "    return best_model.best_estimator_"
   ]
  },
  {
   "cell_type": "markdown",
   "metadata": {},
   "source": [
    "#### **Random Forest Classifier** ####"
   ]
  },
  {
   "cell_type": "code",
   "execution_count": 23,
   "metadata": {},
   "outputs": [],
   "source": [
    "# Number of trees in random forest\n",
    "n_estimators = [int(x) for x in np.linspace(start = 200, stop = 2000, num = 10)]\n",
    "# Number of features to consider at every split\n",
    "max_features = ['auto', 'sqrt']\n",
    "# Maximum number of levels in tree\n",
    "max_depth = [int(x) for x in np.linspace(10, 110, num = 11)]\n",
    "max_depth.append(None)\n",
    "# Minimum number of samples required to split a node\n",
    "min_samples_split = [2, 5, 10]\n",
    "# Minimum number of samples required at each leaf node\n",
    "min_samples_leaf = [2,6,50]\n",
    "# Method of selecting samples for training each tree\n",
    "bootstrap = [True, False]\n",
    "# The function to measure the quality of a split\n",
    "criterion = ['entropy', 'gini']\n",
    "\n",
    "random_grid = {'n_estimators': n_estimators,\n",
    "               'max_features': max_features,\n",
    "               'max_depth': max_depth,\n",
    "               'criterion':criterion,\n",
    "               'min_samples_split': min_samples_split,\n",
    "               'min_samples_leaf': min_samples_leaf,\n",
    "               'bootstrap': bootstrap}"
   ]
  },
  {
   "cell_type": "code",
   "execution_count": 24,
   "metadata": {},
   "outputs": [
    {
     "name": "stdout",
     "output_type": "stream",
     "text": [
      "Fitting 3 folds for each of 100 candidates, totalling 300 fits\n"
     ]
    },
    {
     "name": "stderr",
     "output_type": "stream",
     "text": [
      "[Parallel(n_jobs=-1)]: Using backend LokyBackend with 4 concurrent workers.\n",
      "[Parallel(n_jobs=-1)]: Done  42 tasks      | elapsed:  1.5min\n",
      "[Parallel(n_jobs=-1)]: Done 192 tasks      | elapsed:  6.8min\n",
      "[Parallel(n_jobs=-1)]: Done 300 out of 300 | elapsed: 10.4min finished\n"
     ]
    }
   ],
   "source": [
    "# The search for the best combination starts here\n",
    "# Running this cell will take an important amount of time\n",
    "# as we are searching across 100 different combinations, using all of our CPU cores\n",
    "rfc_tuned = hyperparameters_tuning(rfc,random_grid,X_train, y_train, search_type ='random_search')\n",
    "rfc_tuned;"
   ]
  },
  {
   "cell_type": "code",
   "execution_count": 25,
   "metadata": {},
   "outputs": [
    {
     "name": "stdout",
     "output_type": "stream",
     "text": [
      "Fitting 3 folds for each of 81 candidates, totalling 243 fits\n"
     ]
    },
    {
     "name": "stderr",
     "output_type": "stream",
     "text": [
      "[Parallel(n_jobs=-1)]: Using backend LokyBackend with 4 concurrent workers.\n",
      "[Parallel(n_jobs=-1)]: Done  42 tasks      | elapsed:   31.2s\n",
      "[Parallel(n_jobs=-1)]: Done 192 tasks      | elapsed:  2.7min\n",
      "[Parallel(n_jobs=-1)]: Done 243 out of 243 | elapsed:  3.5min finished\n"
     ]
    }
   ],
   "source": [
    "# Now we will use the best parameters found by random search to find a better combination with\n",
    "# grid search\n",
    "\n",
    "# The parameter grid based on the results of random search \n",
    "param_grid = {\n",
    "    'bootstrap': [True],\n",
    "    'max_depth': [8, 10, 12],\n",
    "    'min_samples_leaf': [5,6,7],\n",
    "    'min_samples_split': [8, 10, 12],\n",
    "    'criterion': ['gini'],\n",
    "    'n_estimators': [580, 600, 620]\n",
    "}\n",
    "\n",
    "# The search commences here\n",
    "final_RFC_model = hyperparameters_tuning(rfc,param_grid,X_train, y_train)"
   ]
  },
  {
   "cell_type": "code",
   "execution_count": 26,
   "metadata": {},
   "outputs": [
    {
     "name": "stdout",
     "output_type": "stream",
     "text": [
      "RandomForestClassifier(bootstrap=True, class_weight=None, criterion='gini',\n",
      "                       max_depth=10, max_features='auto', max_leaf_nodes=None,\n",
      "                       min_impurity_decrease=0.0, min_impurity_split=None,\n",
      "                       min_samples_leaf=6, min_samples_split=8,\n",
      "                       min_weight_fraction_leaf=0.0, n_estimators=580,\n",
      "                       n_jobs=-1, oob_score=False, random_state=42, verbose=0,\n",
      "                       warm_start=False)\n",
      "==========================================================================\n",
      "The Accuracy of the model on test data: 0.797 % \n",
      "The Accuracy of the model on train data: 0.836 % \n",
      "==========================================================================\n"
     ]
    }
   ],
   "source": [
    "prediction_algorithm(final_RFC_model,X_train, y_train, X_test, y_test)"
   ]
  },
  {
   "cell_type": "markdown",
   "metadata": {},
   "source": [
    "#### **Decision Tree Classifier** ####"
   ]
  },
  {
   "cell_type": "code",
   "execution_count": 27,
   "metadata": {},
   "outputs": [],
   "source": [
    "max_features = ['auto', 'sqrt']\n",
    "max_depth = [int(x) for x in np.linspace(2, 40, 20)]\n",
    "max_depth.append(None)\n",
    "min_samples_split = [2, 5, 10]\n",
    "min_samples_leaf = [2,6,8,10,12,14,18,28]\n",
    "criterion = ['entropy', 'gini']\n",
    "splitter = ['best', 'random']\n",
    "\n",
    "random_grid_tree = {\n",
    "    'max_depth': max_depth,\n",
    "    'min_samples_leaf': min_samples_leaf,\n",
    "    'min_samples_split': min_samples_split,\n",
    "    'criterion': criterion,\n",
    "    'splitter':splitter\n",
    "}"
   ]
  },
  {
   "cell_type": "code",
   "execution_count": 28,
   "metadata": {},
   "outputs": [
    {
     "name": "stdout",
     "output_type": "stream",
     "text": [
      "Fitting 3 folds for each of 100 candidates, totalling 300 fits\n"
     ]
    },
    {
     "name": "stderr",
     "output_type": "stream",
     "text": [
      "[Parallel(n_jobs=-1)]: Using backend LokyBackend with 4 concurrent workers.\n",
      "[Parallel(n_jobs=-1)]: Done 180 tasks      | elapsed:    1.5s\n",
      "[Parallel(n_jobs=-1)]: Done 300 out of 300 | elapsed:    2.3s finished\n"
     ]
    }
   ],
   "source": [
    "# The search for the best combination starts here\n",
    "# Running this cell will take an important amount of time\n",
    "# as we are searching across 100 different combinations, using all of our CPU cores\n",
    "tree_tuned = hyperparameters_tuning(tree,random_grid_tree,X_train, y_train, search_type ='random_search')\n",
    "tree_tuned;"
   ]
  },
  {
   "cell_type": "code",
   "execution_count": 29,
   "metadata": {},
   "outputs": [
    {
     "name": "stdout",
     "output_type": "stream",
     "text": [
      "Fitting 3 folds for each of 48 candidates, totalling 144 fits\n"
     ]
    },
    {
     "name": "stderr",
     "output_type": "stream",
     "text": [
      "[Parallel(n_jobs=-1)]: Using backend LokyBackend with 4 concurrent workers.\n",
      "[Parallel(n_jobs=-1)]: Done 144 out of 144 | elapsed:    1.1s finished\n"
     ]
    }
   ],
   "source": [
    "param_grid_tree = {\n",
    "    'max_depth': [4,5,6,150],\n",
    "    'min_samples_leaf': [13,14,15],\n",
    "    'min_samples_split': [8,10,12,14],\n",
    "}\n",
    "final_TREE_model = hyperparameters_tuning(tree,param_grid_tree,X_train, y_train)"
   ]
  },
  {
   "cell_type": "code",
   "execution_count": 30,
   "metadata": {},
   "outputs": [
    {
     "name": "stdout",
     "output_type": "stream",
     "text": [
      "DecisionTreeClassifier(class_weight=None, criterion='gini', max_depth=4,\n",
      "                       max_features=None, max_leaf_nodes=None,\n",
      "                       min_impurity_decrease=0.0, min_impurity_split=None,\n",
      "                       min_samples_leaf=13, min_samples_split=8,\n",
      "                       min_weight_fraction_leaf=0.0, presort=False,\n",
      "                       random_state=42, splitter='best')\n",
      "==========================================================================\n",
      "The Accuracy of the model on test data: 0.784 % \n",
      "The Accuracy of the model on train data: 0.792 % \n",
      "==========================================================================\n"
     ]
    }
   ],
   "source": [
    "prediction_algorithm(final_TREE_model,X_train, y_train, X_test, y_test)"
   ]
  },
  {
   "cell_type": "markdown",
   "metadata": {},
   "source": [
    "#### **AdaBoost Classifier** ####"
   ]
  },
  {
   "cell_type": "code",
   "execution_count": 31,
   "metadata": {},
   "outputs": [],
   "source": [
    "# Wel will base our adaboost classifier on the previous models\n",
    "ADA = AdaBoostClassifier(random_state=42)"
   ]
  },
  {
   "cell_type": "code",
   "execution_count": 32,
   "metadata": {},
   "outputs": [],
   "source": [
    "\n",
    "random_grid_ada = {\n",
    "    'n_estimators' : [int(x) for x in np.linspace(50, 300, 6)]\n",
    "}"
   ]
  },
  {
   "cell_type": "code",
   "execution_count": 33,
   "metadata": {},
   "outputs": [
    {
     "name": "stdout",
     "output_type": "stream",
     "text": [
      "Fitting 3 folds for each of 6 candidates, totalling 18 fits\n"
     ]
    },
    {
     "name": "stderr",
     "output_type": "stream",
     "text": [
      "[Parallel(n_jobs=-1)]: Using backend LokyBackend with 4 concurrent workers.\n",
      "[Parallel(n_jobs=-1)]: Done  18 out of  18 | elapsed:    9.2s finished\n"
     ]
    }
   ],
   "source": [
    "final_ADA = hyperparameters_tuning(ADA,random_grid_ada,X_train, y_train)"
   ]
  },
  {
   "cell_type": "code",
   "execution_count": 34,
   "metadata": {},
   "outputs": [
    {
     "name": "stdout",
     "output_type": "stream",
     "text": [
      "AdaBoostClassifier(algorithm='SAMME.R', base_estimator=None, learning_rate=1.0,\n",
      "                   n_estimators=100, random_state=42)\n",
      "==========================================================================\n",
      "The Accuracy of the model on test data: 0.792 % \n",
      "The Accuracy of the model on train data: 0.811 % \n",
      "==========================================================================\n"
     ]
    }
   ],
   "source": [
    "prediction_algorithm(final_ADA,X_train, y_train, X_test, y_test)"
   ]
  },
  {
   "cell_type": "markdown",
   "metadata": {},
   "source": [
    "#### **XGBoost Classifier** ####"
   ]
  },
  {
   "cell_type": "code",
   "execution_count": 36,
   "metadata": {},
   "outputs": [],
   "source": [
    "XGB_grid = {\n",
    "    \"learning_rate\"    : [0.05, 0.15, 0.30 ] ,\n",
    "    \"max_depth\"        : [ 4, 8, 12, 15],\n",
    "    \"min_child_weight\" : [ 1, 3, 5, 7 ],\n",
    "    \"gamma\"            : [ 0.0, 0.1, 0.2 , 0.3, 0.4 ]\n",
    "}\n",
    "\n",
    "# max_depth : Maximum tree depth for base learners.\n",
    "# learning_rate : The amount that the weights are updated during training is referred to as the step size \n",
    "# gamma : the Lagrangian multiplier"
   ]
  },
  {
   "cell_type": "code",
   "execution_count": 37,
   "metadata": {},
   "outputs": [
    {
     "name": "stdout",
     "output_type": "stream",
     "text": [
      "Fitting 3 folds for each of 240 candidates, totalling 720 fits\n"
     ]
    },
    {
     "name": "stderr",
     "output_type": "stream",
     "text": [
      "[Parallel(n_jobs=-1)]: Using backend LokyBackend with 4 concurrent workers.\n",
      "[Parallel(n_jobs=-1)]: Done  42 tasks      | elapsed:   27.9s\n",
      "[Parallel(n_jobs=-1)]: Done 192 tasks      | elapsed:  2.2min\n",
      "[Parallel(n_jobs=-1)]: Done 442 tasks      | elapsed:  5.0min\n",
      "[Parallel(n_jobs=-1)]: Done 720 out of 720 | elapsed:  8.4min finished\n"
     ]
    }
   ],
   "source": [
    "final_XGB = hyperparameters_tuning(XGB,XGB_grid,X_train, y_train)"
   ]
  },
  {
   "cell_type": "code",
   "execution_count": 38,
   "metadata": {},
   "outputs": [
    {
     "name": "stdout",
     "output_type": "stream",
     "text": [
      "XGBClassifier(base_score=0.5, booster=None, colsample_bylevel=1,\n",
      "              colsample_bynode=1, colsample_bytree=1, gamma=0.2, gpu_id=-1,\n",
      "              importance_type='gain', interaction_constraints=None,\n",
      "              learning_rate=0.15, max_delta_step=0, max_depth=4,\n",
      "              min_child_weight=7, missing=nan, monotone_constraints=None,\n",
      "              n_estimators=100, n_jobs=-1, num_parallel_tree=1,\n",
      "              objective='binary:logistic', random_state=42, reg_alpha=0,\n",
      "              reg_lambda=1, scale_pos_weight=1, subsample=1, tree_method=None,\n",
      "              validate_parameters=False, verbosity=None)\n",
      "==========================================================================\n",
      "The Accuracy of the model on test data: 0.798 % \n",
      "The Accuracy of the model on train data: 0.841 % \n",
      "==========================================================================\n"
     ]
    }
   ],
   "source": [
    "prediction_algorithm(final_XGB,X_train, y_train, X_test, y_test)"
   ]
  },
  {
   "cell_type": "markdown",
   "metadata": {},
   "source": [
    "## <a id=\"Evaluation\">7. Evaluation</a> ##\n",
    "\n",
    "At this point we will use different matrics to evaluate our models's overall performance\n"
   ]
  },
  {
   "cell_type": "code",
   "execution_count": 39,
   "metadata": {},
   "outputs": [],
   "source": [
    "from sklearn.metrics import confusion_matrix, classification_report"
   ]
  },
  {
   "cell_type": "code",
   "execution_count": 40,
   "metadata": {},
   "outputs": [],
   "source": [
    "def model_eval(model, X_test, y_test):\n",
    "    accuracyOnTestData = model.score(X_test,y_test)\n",
    "    y_pred = model.predict(X_test)\n",
    "    conf_matrix = confusion_matrix(y_test,y_pred)\n",
    "    print(\"==========================================================================\")\n",
    "    print('The Accuracy of the model on test data: {:0.3f} % '.format(accuracyOnTestData))\n",
    "    print(\"==========================================================================\")\n",
    "    print(classification_report(y_test, y_pred))\n",
    "    print(\"==========================================================================\")\n",
    "    fig = plt.figure(figsize=(5,5))\n",
    "    sns.heatmap(conf_matrix,\n",
    "                linewidths = 1,\n",
    "                linecolor = \"black\",\n",
    "                fmt = \"d\",\n",
    "                annot=True,\n",
    "                xticklabels= [\"Predict No Churn\",\"Predict Churn\"],\n",
    "                yticklabels=[\"No Churn\",\"Churn\"],\n",
    "                cmap = \"coolwarm\"\n",
    "                )\n",
    "    plt.title(\"Confusion Matrix\",color = \"b\")\n",
    "    \n",
    "    "
   ]
  },
  {
   "cell_type": "markdown",
   "metadata": {},
   "source": [
    "#### **Random Forest Classifier Evaluation** ####"
   ]
  },
  {
   "cell_type": "code",
   "execution_count": 41,
   "metadata": {},
   "outputs": [
    {
     "name": "stdout",
     "output_type": "stream",
     "text": [
      "==========================================================================\n",
      "The Accuracy of the model on test data: 0.797 % \n",
      "==========================================================================\n",
      "              precision    recall  f1-score   support\n",
      "\n",
      "          No       0.83      0.91      0.87      1033\n",
      "         Yes       0.66      0.48      0.56       374\n",
      "\n",
      "    accuracy                           0.80      1407\n",
      "   macro avg       0.75      0.70      0.71      1407\n",
      "weighted avg       0.78      0.80      0.79      1407\n",
      "\n",
      "==========================================================================\n"
     ]
    },
    {
     "data": {
      "image/png": "[encoded data removed]",
      "text/plain": [
       "<Figure size 360x360 with 2 Axes>"
      ]
     },
     "metadata": {
      "needs_background": "light"
     },
     "output_type": "display_data"
    }
   ],
   "source": [
    "model_eval(final_RFC_model, X_test, y_test)"
   ]
  },
  {
   "cell_type": "markdown",
   "metadata": {},
   "source": [
    "#### **Decision Tree Classifier Evaluation** ####"
   ]
  },
  {
   "cell_type": "code",
   "execution_count": 42,
   "metadata": {},
   "outputs": [
    {
     "name": "stdout",
     "output_type": "stream",
     "text": [
      "==========================================================================\n",
      "The Accuracy of the model on test data: 0.784 % \n",
      "==========================================================================\n",
      "              precision    recall  f1-score   support\n",
      "\n",
      "          No       0.84      0.88      0.86      1033\n",
      "         Yes       0.61      0.53      0.57       374\n",
      "\n",
      "    accuracy                           0.78      1407\n",
      "   macro avg       0.72      0.70      0.71      1407\n",
      "weighted avg       0.78      0.78      0.78      1407\n",
      "\n",
      "==========================================================================\n"
     ]
    },
    {
     "data": {
      "image/png": "[encoded data removed]",
      "text/plain": [
       "<Figure size 360x360 with 2 Axes>"
      ]
     },
     "metadata": {
      "needs_background": "light"
     },
     "output_type": "display_data"
    }
   ],
   "source": [
    "model_eval(final_TREE_model, X_test, y_test)"
   ]
  },
  {
   "cell_type": "markdown",
   "metadata": {},
   "source": [
    "#### **AdaBoost Classifier Evaluation** ####"
   ]
  },
  {
   "cell_type": "code",
   "execution_count": 43,
   "metadata": {},
   "outputs": [
    {
     "name": "stdout",
     "output_type": "stream",
     "text": [
      "==========================================================================\n",
      "The Accuracy of the model on test data: 0.792 % \n",
      "==========================================================================\n",
      "              precision    recall  f1-score   support\n",
      "\n",
      "          No       0.84      0.89      0.86      1033\n",
      "         Yes       0.63      0.52      0.57       374\n",
      "\n",
      "    accuracy                           0.79      1407\n",
      "   macro avg       0.73      0.71      0.72      1407\n",
      "weighted avg       0.78      0.79      0.79      1407\n",
      "\n",
      "==========================================================================\n"
     ]
    },
    {
     "data": {
      "image/png": "[encoded data removed]",
      "text/plain": [
       "<Figure size 360x360 with 2 Axes>"
      ]
     },
     "metadata": {
      "needs_background": "light"
     },
     "output_type": "display_data"
    }
   ],
   "source": [
    "model_eval(final_ADA, X_test, y_test)"
   ]
  },
  {
   "cell_type": "markdown",
   "metadata": {},
   "source": [
    "#### **XGBoost Classifier Evaluation** ####"
   ]
  },
  {
   "cell_type": "code",
   "execution_count": 44,
   "metadata": {},
   "outputs": [
    {
     "name": "stdout",
     "output_type": "stream",
     "text": [
      "==========================================================================\n",
      "The Accuracy of the model on test data: 0.798 % \n",
      "==========================================================================\n",
      "              precision    recall  f1-score   support\n",
      "\n",
      "          No       0.84      0.90      0.87      1033\n",
      "         Yes       0.65      0.53      0.58       374\n",
      "\n",
      "    accuracy                           0.80      1407\n",
      "   macro avg       0.74      0.71      0.72      1407\n",
      "weighted avg       0.79      0.80      0.79      1407\n",
      "\n",
      "==========================================================================\n"
     ]
    },
    {
     "data": {
      "image/png": "[encoded data removed]",
      "text/plain": [
       "<Figure size 360x360 with 2 Axes>"
      ]
     },
     "metadata": {
      "needs_background": "light"
     },
     "output_type": "display_data"
    }
   ],
   "source": [
    "model_eval(final_XGB, X_test, y_test)"
   ]
  },
  {
   "cell_type": "markdown",
   "metadata": {},
   "source": [
    "At the end of our evaluation we notice that the models performed decently on the data with a slight edfe for Random Forest Classifier<br>\n",
    "and XGBoost. <br>\n",
    "Even though our models are perfoming well on the \"No churn\" Class, with high accuarcy we notice that their accuarcy drops when trying <br>\n",
    "to predict the \"Churn\" Class. We are potentially facing an imbalanced classes problem as the models adapt their learning to the dominant\n",
    "class"
   ]
  },
  {
   "cell_type": "markdown",
   "metadata": {},
   "source": [
    "## **Author: Hamdi \"NoName\" Saidi** ##"
   ]
  },
  {
   "cell_type": "code",
   "execution_count": null,
   "metadata": {},
   "outputs": [],
   "source": []
  }
 ],
 "metadata": {
  "kernelspec": {
   "display_name": "Python 3",
   "language": "python",
   "name": "python3"
  },
  "language_info": {
   "codemirror_mode": {
    "name": "ipython",
    "version": 3
   },
   "file_extension": ".py",
   "mimetype": "text/x-python",
   "name": "python",
   "nbconvert_exporter": "python",
   "pygments_lexer": "ipython3",
   "version": "3.7.4"
  }
 },
 "nbformat": 4,
 "nbformat_minor": 4
}
